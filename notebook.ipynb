{
 "cells": [
  {
   "cell_type": "code",
   "execution_count": 3,
   "metadata": {},
   "outputs": [
    {
     "name": "stdout",
     "output_type": "stream",
     "text": [
      "sec_MQ5r5ChUwKV0uiymK0z2RxofCvGATc5t\n"
     ]
    }
   ],
   "source": [
    "from dotenv import load_dotenv\n",
    "import os\n",
    "load_dotenv()\n",
    "\n",
    "my_chat_key = os.getenv(\"CHAT_PDF_API_KEY\")"
   ]
  },
  {
   "cell_type": "code",
   "execution_count": 5,
   "metadata": {},
   "outputs": [
    {
     "name": "stdout",
     "output_type": "stream",
     "text": [
      "Source ID: src_B4PPFKrrMZt5UmIhFGauH\n"
     ]
    }
   ],
   "source": [
    "import requests\n",
    "\n",
    "files = [\n",
    "    ('file', ('file', open('www/pdfs/test_pdf.pdf', 'rb'), 'application/octet-stream'))\n",
    "]\n",
    "headers = {\n",
    "    'x-api-key': my_chat_key\n",
    "}\n",
    "\n",
    "response = requests.post(\n",
    "    'https://api.chatpdf.com/v1/sources/add-file', headers=headers, files=files)\n",
    "\n",
    "if response.status_code == 200:\n",
    "    print('Source ID:', response.json()['sourceId'])\n",
    "else:\n",
    "    print('Status:', response.status_code)\n",
    "    print('Error:', response.text)"
   ]
  },
  {
   "cell_type": "code",
   "execution_count": 6,
   "metadata": {},
   "outputs": [
    {
     "name": "stdout",
     "output_type": "stream",
     "text": [
      "Result: This text provides information about a job posting for an Artificial Intelligence (AI) and Data Intern position at inSupply Health Ltd in Nairobi, Kenya. It outlines the responsibilities, qualifications, and application process for interested candidates.\n"
     ]
    }
   ],
   "source": [
    "\n",
    "data = {\n",
    "    'sourceId': response.json()[\"sourceId\"],\n",
    "    'messages': [\n",
    "        {\n",
    "            'role': \"user\",\n",
    "            'content': \"What is this text about\",\n",
    "        }\n",
    "    ]\n",
    "}\n",
    "\n",
    "response = requests.post(\n",
    "    'https://api.chatpdf.com/v1/chats/message', headers=headers, json=data)\n",
    "\n",
    "if response.status_code == 200:\n",
    "    print('Result:', response.json()['content'])\n",
    "else:\n",
    "    print('Status:', response.status_code)\n",
    "    print('Error:', response.text)"
   ]
  },
  {
   "cell_type": "code",
   "execution_count": null,
   "metadata": {},
   "outputs": [],
   "source": [
    "data = {\n",
    "    \"referenceSources\": True,\n",
    "    \"sourceId\": \"src_xxxxxx\",\n",
    "    \"messages\": [\n",
    "        {\n",
    "            \"role\": \"user\",\n",
    "            \"content\": \"how much is the world?\"\n",
    "        }\n",
    "    ]\n",
    "}"
   ]
  }
 ],
 "metadata": {
  "kernelspec": {
   "display_name": "env",
   "language": "python",
   "name": "python3"
  },
  "language_info": {
   "codemirror_mode": {
    "name": "ipython",
    "version": 3
   },
   "file_extension": ".py",
   "mimetype": "text/x-python",
   "name": "python",
   "nbconvert_exporter": "python",
   "pygments_lexer": "ipython3",
   "version": "3.12.0"
  }
 },
 "nbformat": 4,
 "nbformat_minor": 2
}

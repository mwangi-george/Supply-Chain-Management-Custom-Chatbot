{
 "cells": [
  {
   "cell_type": "code",
   "execution_count": 3,
   "metadata": {},
   "outputs": [
    {
     "name": "stdout",
     "output_type": "stream",
     "text": [
      "sec_MQ5r5ChUwKV0uiymK0z2RxofCvGATc5t\n"
     ]
    }
   ],
   "source": [
    "from dotenv import load_dotenv\n",
    "import os\n",
    "load_dotenv()\n",
    "\n",
    "my_chat_key = os.getenv(\"CHAT_PDF_API_KEY\")"
   ]
  },
  {
   "cell_type": "code",
   "execution_count": 25,
   "metadata": {},
   "outputs": [
    {
     "name": "stdout",
     "output_type": "stream",
     "text": [
      "Source ID: src_bqomFi5ezfHPtmga87sZT\n"
     ]
    }
   ],
   "source": [
    "import requests\n",
    "\n",
    "files = [\n",
    "    ('file', ('file', open('www/pdfs/test_pdf.pdf', 'rb'), 'application/octet-stream'))\n",
    "]\n",
    "headers = {\n",
    "    'x-api-key': my_chat_key\n",
    "}\n",
    "\n",
    "file_post = requests.post(\n",
    "    'https://api.chatpdf.com/v1/sources/add-file', headers=headers, files=files)\n",
    "\n",
    "if file_post.status_code == 200:\n",
    "    print('Source ID:', file_post.json()['sourceId'])\n",
    "    source_id = file_post.json()['sourceId']\n",
    "else:\n",
    "    print('Status:', file_post.status_code)\n",
    "    print('Error:', file_post.text)"
   ]
  },
  {
   "cell_type": "code",
   "execution_count": 27,
   "metadata": {},
   "outputs": [
    {
     "name": "stdout",
     "output_type": "stream",
     "text": [
      "Result: This text provides information about a job posting for an Artificial Intelligence (AI) and Data Intern position at inSupply Health Ltd in Nairobi, Kenya. The position involves working with a team to optimize data visibility and use, workforce development, and continuous performance improvement in the health sector. The internship program aims to build professional and technical skills in supply chain, data use, and scaling technology in the public health space.\n"
     ]
    }
   ],
   "source": [
    "\n",
    "data = {\n",
    "    'sourceId': source_id,\n",
    "    'messages': [\n",
    "        {\n",
    "            'role': \"user\",\n",
    "            'content': \"What is this text about\",\n",
    "        }\n",
    "    ]\n",
    "}\n",
    "\n",
    "response = requests.post(\n",
    "    'https://api.chatpdf.com/v1/chats/message', headers=headers, json=data)\n",
    "\n",
    "if response.status_code == 200:\n",
    "    print('Result:', response.json()['content'])\n",
    "else:\n",
    "    print('Status:', response.status_code)\n",
    "    print('Error:', response.text)"
   ]
  },
  {
   "cell_type": "code",
   "execution_count": 50,
   "metadata": {},
   "outputs": [],
   "source": [
    "headers = {\n",
    "    \"x-api-key\": my_chat_key\n",
    "}\n",
    "\n",
    "data = {\n",
    "    \"sourceId\": source_id,\n",
    "    \"messages\": [\n",
    "        {\n",
    "            \"role\": \"user\",\n",
    "            \"content\": \"What are the main requirements for this job post\",\n",
    "        },\n",
    "    ],\n",
    "}\n",
    "\n",
    "\n",
    "url = \"https://api.chatpdf.com/v1/chats/message\"\n",
    "\n",
    "response = requests.post(url, json=data, headers=headers, stream=True)"
   ]
  },
  {
   "cell_type": "code",
   "execution_count": 53,
   "metadata": {},
   "outputs": [
    {
     "name": "stdout",
     "output_type": "stream",
     "text": [
      "The main requirements for the AI and Data Intern position at inSupply Health Ltd include:\n",
      "- Graduated not more than two years from the date of advertisement\n",
      "- Bachelor’s degree in Health related field, Computer Science, Data Science, Mathematics, or Statistics\n",
      "- 1+ years working with Artificial Intelligence/Machine Learning tools\n",
      "- 1+ years of experience in data analytics using R-Program\n",
      "- Ability to work comfortably in MS Office package, with advanced knowledge of Excel and PowerPoint\n",
      "- Excellent analytical skills, relationship management skills, and interest in health and/or development issues\n",
      "- Strong interest and some basic experience in data analytics with an affinity for numbers\n",
      "- Excellent writing, verbal and written communication, organizational skills, attention to detail, and ability to meet deadlines\n",
      "- Interest and willingness to learn qualitative data analysis and approaches to learning\n",
      "\n",
      "If you are interested in applying, please submit your application to recruitment@insupplyhealth.com with AI and Data Analytics Intern as the subject. Your application should include your current CV and Cover letter. \n",
      "\n"
     ]
    }
   ],
   "source": [
    "print(response.json()[\"content\"], \"\\n\")"
   ]
  }
 ],
 "metadata": {
  "kernelspec": {
   "display_name": "env",
   "language": "python",
   "name": "python3"
  },
  "language_info": {
   "codemirror_mode": {
    "name": "ipython",
    "version": 3
   },
   "file_extension": ".py",
   "mimetype": "text/x-python",
   "name": "python",
   "nbconvert_exporter": "python",
   "pygments_lexer": "ipython3",
   "version": "3.12.0"
  }
 },
 "nbformat": 4,
 "nbformat_minor": 2
}
